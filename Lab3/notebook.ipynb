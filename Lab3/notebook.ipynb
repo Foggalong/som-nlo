{
 "cells": [
  {
   "cell_type": "markdown",
   "metadata": {},
   "source": [
    "# Lab Week 3: Conjugate Gradients, Newton, and Quasi-Newton\n",
    "\n",
    "_Tutors: Andreas Grothey, Josh Fogg_\n",
    "\n",
    "14 February 2025\n",
    "\n",
    "This lab session experiments with the concepts of the lectures in weeks 3, 4 and 5: Conjugate Gradients, Newton, and Quasi-Newton.There is again an **Assessed Task** at the end.\n",
    "\n",
    "First download the python modules required for today’s session from Learn (NLOLab3.zip) and unpack them. Some of the files have the same name as in the previous lab session (week 3) but extended functionality. Please work with the new versions. For most of this session we keep working with the files `GenericLineSearchMethod.py` and `LineSearchPlot.py` as in the previous lab session (week 3).\n",
    "\n",
    "## 1. Conjugate Gradients\n",
    "\n",
    "In the previous lab session we have optimized various functions by line search methods based on coordinate descent and steepest descent. Let’s see if using the conjugate gradient method improves things. First try the Fletcher-Reeves variant of the CG method with exact line searches on the `ex21` problem. Go back to where the previous lab session has ended to solve the Ex21 problem with the conjugate\n",
    "gradient method"
   ]
  }
 ],
 "metadata": {
  "kernelspec": {
   "display_name": "Python 3",
   "language": "python",
   "name": "python3"
  },
  "language_info": {
   "codemirror_mode": {
    "name": "ipython",
    "version": 3
   },
   "file_extension": ".py",
   "mimetype": "text/x-python",
   "name": "python",
   "nbconvert_exporter": "python",
   "pygments_lexer": "ipython3",
   "version": "3.13.1"
  }
 },
 "nbformat": 4,
 "nbformat_minor": 2
}
