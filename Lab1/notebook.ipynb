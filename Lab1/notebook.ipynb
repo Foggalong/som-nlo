{
 "cells": [
  {
   "cell_type": "code",
   "execution_count": null,
   "metadata": {},
   "outputs": [],
   "source": [
    "import numpy as np\n",
    "import matplotlib.pyplot as plt\n",
    "import matplotlib as mpl"
   ]
  },
  {
   "cell_type": "code",
   "execution_count": null,
   "metadata": {},
   "outputs": [],
   "source": [
    "x = np.linspace(-np.pi, np.pi, 100)\n",
    "y = np.sin(x)\n",
    "\n",
    "fix, ax = plt.subplots()\n",
    "ax.plot(x, y)"
   ]
  },
  {
   "cell_type": "code",
   "execution_count": null,
   "metadata": {},
   "outputs": [],
   "source": [
    "x_values = np.linspace(-2, 2, 100)\n",
    "y_values = np.linspace(-2, 2, 100)\n",
    "X, Y = np.meshgrid(x_values, y_values)\n",
    "Z = X**2 + Y**2\n",
    "fix, ax = plt.subplots(subplot_kw={\"projection\": \"3d\"})\n",
    "cp = ax.plot_surface(X, Y, Z, cmap=plt.get_cmap('hsv'))\n",
    "# cp = ax.plot_wireframe(X, Y, Z)\n",
    "plt.show()"
   ]
  },
  {
   "cell_type": "code",
   "execution_count": null,
   "metadata": {},
   "outputs": [],
   "source": [
    "mesh_range = np.linspace(-2, 2, 100)\n",
    "X, Y = np.meshgrid(mesh_range, mesh_range)\n",
    "Z = X*X*(4-2.1*X**2+X**4/3) + X*Y + Y*Y*(-4+4*Y*Y)\n",
    "fix, ax = plt.subplots(subplot_kw={\"projection\": \"3d\"})\n",
    "cp = ax.plot_wireframe(X, Y, Z)\n",
    "plt.show()"
   ]
  },
  {
   "cell_type": "code",
   "execution_count": null,
   "metadata": {},
   "outputs": [],
   "source": [
    "fig2, ax2 = plt.subplots()\n",
    "cp = ax2.contour(x_values, y_values, Z, 50)\n",
    "ax2.clabel(cp, inline=True, fmt='%1.0f', fontsize=7)"
   ]
  },
  {
   "cell_type": "code",
   "execution_count": null,
   "metadata": {},
   "outputs": [],
   "source": [
    "from ex13func import ex13 as func"
   ]
  },
  {
   "cell_type": "code",
   "execution_count": null,
   "metadata": {},
   "outputs": [],
   "source": [
    "assert func(0, [1,1]) == func(0, np.array([1,1]))"
   ]
  },
  {
   "cell_type": "code",
   "execution_count": null,
   "metadata": {},
   "outputs": [],
   "source": [
    "func(0, np.array([0, 1]), np.array([2, 3]))"
   ]
  },
  {
   "cell_type": "code",
   "execution_count": null,
   "metadata": {},
   "outputs": [],
   "source": [
    "x_values = np.linspace(-2.5, 2.5, 100)\n",
    "y_values = np.linspace(-1.5, 1.5, 100)\n",
    "X, Y = np.meshgrid(x_values, y_values)\n",
    "Z = func(0, X, Y)\n",
    "fig, ax = plt.subplots()\n",
    "cp = ax.contour(X, Y, Z, 50)\n",
    "plt.show()"
   ]
  },
  {
   "cell_type": "code",
   "execution_count": null,
   "metadata": {},
   "outputs": [],
   "source": [
    "x = np.array([0.5, -0.2])\n",
    "g = func(1, x)\n",
    "g = g/np.linalg.norm(g)\n",
    "plt.arrow(x[0], x[1], g[0], g[1], head_width=0.15)"
   ]
  },
  {
   "cell_type": "code",
   "execution_count": null,
   "metadata": {},
   "outputs": [],
   "source": [
    "H = func(2, x)\n",
    "np.linalg.eigvals(H)"
   ]
  },
  {
   "cell_type": "code",
   "execution_count": null,
   "metadata": {},
   "outputs": [],
   "source": [
    "x0 = 0\n",
    "y0 = 0.5\n",
    "f = func(0, [x0, y0])\n",
    "g = func(1, [x0, y0])\n",
    "H = func(2, [x0, y0])\n",
    "\n",
    "XS = X-x0\n",
    "YS = Y-y0\n",
    "T = f + g[0]*XS + g[1]*YS + 0.5*H[0][0]*XS*XS + H[0][1]*XS*YS + 0.5*H[1][1]*YS*Y"
   ]
  },
  {
   "cell_type": "code",
   "execution_count": null,
   "metadata": {},
   "outputs": [],
   "source": [
    "x_values = np.linspace(-2.5, 2.5, 100)\n",
    "y_values = np.linspace(-1.5, 1.5, 100)\n",
    "X, Y = np.meshgrid(x_values, y_values)\n",
    "fig, ax = plt.subplots()\n",
    "cp = ax.contour(X, Y, T, 50, cmap=plt.get_cmap('plasma'))\n",
    "plt.show()"
   ]
  }
 ],
 "metadata": {
  "kernelspec": {
   "display_name": "Python 3",
   "language": "python",
   "name": "python3"
  },
  "language_info": {
   "codemirror_mode": {
    "name": "ipython",
    "version": 3
   },
   "file_extension": ".py",
   "mimetype": "text/x-python",
   "name": "python",
   "nbconvert_exporter": "python",
   "pygments_lexer": "ipython3",
   "version": "3.13.1"
  }
 },
 "nbformat": 4,
 "nbformat_minor": 2
}
