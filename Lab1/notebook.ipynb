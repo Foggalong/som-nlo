{
 "cells": [
  {
   "cell_type": "markdown",
   "metadata": {},
   "source": [
    "# Lab Week 1: Python + Matplotlib\n",
    "\n",
    "_Tutors: Andreas Grothey, Josh Fogg_\n",
    "\n",
    "17 January 2025\n",
    "\n",
    "Note that there is an **Assessed Task** at the end of this lab session sheet. It requires you to submit some work from the lab session (or a follow-on task). So please make sure you work through the _whole_ of this lab sheet. Finish in your own time if you cannot do so in the lab session itself.\n",
    "\n",
    "For the lab sessions of NLO we will be making use of Python. I assume that you use Visual Studio Code for your Python programming, but you are free to use whatever setup you like.\n",
    "\n",
    "If you are planning to use VS Code, then you need to install it on the lab computers (in your personal space). You should only need to do this once. For this search for \"Visual Studio Code\" and follow the links to install it. Once it is installed, open it and install the \"Python\" and \"Jupyter Notebook\" extensions. You should be ready to go then.\n",
    "\n",
    "The tasks below will build on top of each other, but not necessarily in a sequential linear manner. It may be a good idea to write a separate python program for each task.\n",
    "\n",
    "## 1. Using Matplotlib to visualise functions\n",
    "\n",
    "In much of the course we are concerned with $\\mathbb{R}^n\\rightarrow\\mathbb{R}$ functions. Since many of the arguments in nonlinear optimization are essentially geometrical it helps to be able to visualise functions. This first part of the lab is mainly concerned with showing you how to do that using\n",
    "python.\n",
    "\n",
    "### (a) Matplotlib\n",
    "\n",
    "The main python library for plotting is `matplotlib` (in particular the sublibrary `pyplot`) So start your python program by importing it (in addition to `numpy`). This is usually done through"
   ]
  },
  {
   "cell_type": "code",
   "execution_count": null,
   "metadata": {},
   "outputs": [],
   "source": [
    "import numpy as np\n",
    "import matplotlib.pyplot as plt\n",
    "import matplotlib as mpl"
   ]
  },
  {
   "cell_type": "markdown",
   "metadata": {},
   "source": [
    "### (b) Figures and Axes\n",
    "\n",
    "A plot in matplotlib is displayed in an `axes` display within a ``figure`. Note that _figure_ here means the window that will display the plot, whereas _axes_ refers to the 2D (or 3D) coordinate system within the figure that actually holds the plot. A _figure_ may contain several _axes_ (but we will usually only use one).\n",
    "\n",
    "### (c) Plotting 1D Functions\n",
    "\n",
    "In the simplest case we just want to plot an $\\mathbb{R}\\rightarrow\\mathbb{R}$ function, say $f(x) = \\sin(x)$ we can do this in python/matplotlib with the following commands"
   ]
  },
  {
   "cell_type": "code",
   "execution_count": null,
   "metadata": {},
   "outputs": [],
   "source": [
    "x = np.linspace(-np.pi, np.pi, 100)\n",
    "y = np.sin(x)\n",
    "\n",
    "fix, ax = plt.subplots()\n",
    "ax.plot(x, y)"
   ]
  },
  {
   "cell_type": "markdown",
   "metadata": {},
   "source": [
    "Note that the line `fig, ax = plt.subplots()` is not strictly necessary here, you could directly plot using the command `plt.plot(x,y)` and matplotlib will create the figure and axes automatically. But it is useful to have references to the axes for later (and this way of doing things is necessary for 3D plots). `linspace(a, b, n)` generates a list of $n$ equally spaced points in the interval $[a, b]$.\n",
    "\n",
    "### (d) Plotting a 2D Function\n",
    "\n",
    "We will mainly optimize functions in more than one variable. For $\\mathbb{R}^2\\rightarrow\\mathbb{R}$ functions we can still visualise them by displaying the function value as a height above the $xy$−plane. There are a few functions in matplotlib that enable us to do this. Try the following piece of code"
   ]
  },
  {
   "cell_type": "code",
   "execution_count": null,
   "metadata": {},
   "outputs": [],
   "source": [
    "x_values = np.linspace(-2, 2, 100)\n",
    "y_values = np.linspace(-2, 2, 100)\n",
    "X, Y = np.meshgrid(x_values, y_values)\n",
    "Z = X**2 + Y**2\n",
    "fix, ax = plt.subplots(subplot_kw={\"projection\": \"3d\"})\n",
    "ax.plot_surface(X, Y, Z)"
   ]
  },
  {
   "cell_type": "markdown",
   "metadata": {},
   "source": [
    "Here meshgrid generates two matrices (to be precise `np.arrays`) `X` and `Y` that give respectively the $x$ and $y$ coordinates for every point of the $100\\times100$ grid in the $xy$−plane defined by the points in `x_values` and `y_values`. This is a trick that allows the calculation of the function $z(x, y) = x^2 + y^2$ by the short notation `Z = X**2 + Y**2`. Note that for this to work the expression `X**2` must be interpreted as being applied componentwise, which is indeed what python (or more specifically `numpy`) does. Finally for a 3-d plot we must tell matplotlib explicitly to create axes to represent 3D data (think of it as a coordinate system with $x$, $y$, $z$ axes).\n",
    "\n",
    "Note that for matrices $A$, $B$ represented as `np.arrays` the expression `A*B` denotes componentwise multiplication, not the usual matrix-matrix product. That would be obtained by `np.matmul(A, B)`.\n",
    "\n",
    "In Jupyter, we can use `ax.view init(elev=50, azim=45)` immediately after the `plot_surface` command to change the orientation of the plot: `elev` gives the angle above the $xy$-plane from which you look and `azim` the direction (both in degrees).  To change the appearance of the plot, you may wish to add the option `cmap=plt.get_cmap('hsv')`. Also try the effect of or `ax.plot_wireframe` instead of `ax.plot_surface`.\n",
    "\n",
    "### (e) Another Function\n",
    "\n",
    "To make the plot more interesting, we can try the function from Example 1.3 of the lectures\n",
    "$$\n",
    "    f(x,y) = x^2(4-2.1x^2 + \\frac{1}{3}x^4) + xy + y^2(-4+4y^2)\n",
    "$$\n",
    "by "
   ]
  },
  {
   "cell_type": "code",
   "execution_count": null,
   "metadata": {},
   "outputs": [],
   "source": [
    "Z2 = X*X*(4-2.1*X**2+X**4/3) + X*Y + Y*Y*(-4+4*Y*Y)"
   ]
  },
  {
   "cell_type": "markdown",
   "metadata": {},
   "source": [
    "Try this using code copied from the previous section.\n",
    "\n",
    "### (f) Contour Plots\n",
    "\n",
    "Even although you can view the surface of the function from different angles, it becomes difficult to see what is going on (for example how many local minima there are and where they\n",
    "are located). In this situation sometimes a contour plot is more informative. We can create another figure (_i.e._ window) with a contour plot of the same function with the commands"
   ]
  },
  {
   "cell_type": "code",
   "execution_count": null,
   "metadata": {},
   "outputs": [],
   "source": [
    "fig2, ax2 = plt.subplots()\n",
    "cp = ax2.contour(x_values, y_values, Z2, 50)"
   ]
  },
  {
   "cell_type": "markdown",
   "metadata": {},
   "source": [
    "The final argument (`50`) for the contour command gives the number of contour lines that should be plotted. You can even label (some of) the contours by `ax2.clabel(cp, inline=True, fmt='%1.0f', fontsize=7)`.\n",
    "\n",
    "### (g) Using External Function Modules\n",
    "\n",
    "For the remainder of this lab session you are going to need some precoded modules (python functions). It is a bit tedious to work out the derivatives of the function from Ex 1.3. To overcome this we use a pre-coded function module. We will use this approach quite frequently in the labs so here is a brief tutorial. The function from Ex 1.3 is coded up in a python module named `ex13func.py`. The actual function defined in that file is called `ex13`. Let's import that by doing"
   ]
  },
  {
   "cell_type": "code",
   "execution_count": null,
   "metadata": {},
   "outputs": [],
   "source": [
    "from ex13func import ex13 as func"
   ]
  },
  {
   "cell_type": "markdown",
   "metadata": {},
   "source": [
    "The function takes 2 or 3 arguments. In the two argument version the first argument is the order of derivative that we want to evaluate (`0` = function itself, `1` = first derivative, `2` = second derivative) and the second argument is the point at which we want to evaluate the function. So, for example"
   ]
  },
  {
   "cell_type": "code",
   "execution_count": null,
   "metadata": {},
   "outputs": [],
   "source": [
    "func(0, [1, 1])"
   ]
  },
  {
   "cell_type": "markdown",
   "metadata": {},
   "source": [
    "which will evaluate the function at the point $x = (1, 1)^{\\top}$. Note that the point at which we want to evaluate the function can be given as either a python list (as above) or as a numpy array. So `func(0, np.array([1, 1]))` will also work."
   ]
  },
  {
   "cell_type": "code",
   "execution_count": null,
   "metadata": {},
   "outputs": [],
   "source": [
    "func(0, np.array([1,1]))"
   ]
  },
  {
   "cell_type": "markdown",
   "metadata": {},
   "source": [
    "Get first and second derivatives (the gradient and Hessian) at the point $(1, 1)^{\\top}$ by doing"
   ]
  },
  {
   "cell_type": "code",
   "execution_count": null,
   "metadata": {},
   "outputs": [],
   "source": [
    "func(0, np.array([0, 1]), np.array([2, 3]))"
   ]
  },
  {
   "cell_type": "code",
   "execution_count": null,
   "metadata": {},
   "outputs": [],
   "source": [
    "func(1, [1, 1]), func(2, [1, 1])"
   ]
  },
  {
   "cell_type": "markdown",
   "metadata": {},
   "source": [
    "In order to obtain a contour plot (or surface plot) it is useful to use the three argument version of our function. In this case the first argument is (again) the order of the derivative, whereas the second and third argument are `np.arrays` of $x$ and $y$ values. So"
   ]
  },
  {
   "cell_type": "code",
   "execution_count": null,
   "metadata": {},
   "outputs": [],
   "source": [
    "func(0, np.array([0, 1]), np.array([2, 3]))"
   ]
  },
  {
   "cell_type": "markdown",
   "metadata": {},
   "source": [
    "evaluates the function at the points $(0, 2)^{\\top}$ and $(1, 3)^{\\top}$ (note the order!) and return both function values in a `np.array` of results. Note that in this way of calling the function the second and third arguments must be of type `np.array` (of the same shape), lists are not accepted.\n",
    "\n",
    "The point of the three argument version is that we can use the arrays `X`, `Y` created by `np.meshgrid` above to create an array of function values that we can use to obtain a contour or surface plot. So we can re-create the contour plot from part (f) by"
   ]
  },
  {
   "cell_type": "code",
   "execution_count": null,
   "metadata": {},
   "outputs": [],
   "source": [
    "x_values = np.linspace(-2.5, 2.5, 100)\n",
    "y_values = np.linspace(-1.5, 1.5, 100)\n",
    "X, Y = np.meshgrid(x_values, y_values)\n",
    "\n",
    "Z = func(0, X, Y)\n",
    "\n",
    "fig, ax = plt.subplots()\n",
    "ax.contour(X, Y, Z, 50)"
   ]
  },
  {
   "cell_type": "markdown",
   "metadata": {},
   "source": [
    "### (h) Contours and Gradient\n",
    "\n",
    "In the next example we display the gradient vector of a function at a given point on top of the contour plot. The function `arrow(x1, x2, d1, d2)` of the `pyplot` library will draw an arrow starting at $(x1, x2)^{\\top}$ in direction $(d1, d2)^{\\top}$. We can use this to superimpose the gradient vector at a given point on top of the contour plot. Note: do this while the contour plot from (g) is displayed."
   ]
  },
  {
   "cell_type": "code",
   "execution_count": null,
   "metadata": {},
   "outputs": [],
   "source": [
    "x = np.array([0.5, -0.2])\n",
    "g = func(1, x)\n",
    "g = g/np.linalg.norm(g)\n",
    "\n",
    "fig, ax = plt.subplots()\n",
    "ax.contour(X, Y, Z, 50)\n",
    "plt.arrow(x[0], x[1], g[0], g[1], head_width=0.15)"
   ]
  },
  {
   "cell_type": "markdown",
   "metadata": {},
   "source": [
    "You will see that the gradient is indicating the direction of steepest ascent at point $x$ and also that the gradient is perpendicular to the contour lines (at the point $x$). We will use these observations later in the course. Note that it is necessary to normalise the gradient by dividing by its norm, since otherwise its components would be too large to conveniently include on the contour plot.\n",
    "\n",
    "### (i) Checking First and Second Order Optimality Conditions\n",
    "\n",
    "From the contour plot produced in part (f) it can be seen that there are quite a few stationary points. How many can you see? Convince yourself that the following points are stationary points. Also determine their nature\n",
    "\n",
    "- $x_1 = (0, 0)$\n",
    "- $x_2 = (0.08984201, −0.7126564)$\n",
    "- $x_3 = (1.23022988, 0.16233458)$\n",
    "\n",
    "Note that you can calculate the eigenvalues of a matrix H (given as a 2-dimensional `np.array`, the form returned by `func(2, x)`) in python with numpy as"
   ]
  },
  {
   "cell_type": "code",
   "execution_count": null,
   "metadata": {},
   "outputs": [],
   "source": [
    "H = func(2, x)\n",
    "np.linalg.eigvals(H)"
   ]
  },
  {
   "cell_type": "markdown",
   "metadata": {},
   "source": [
    "With that knowledge, how many minima, maxima and saddle points does the function have?\n",
    "\n",
    "### (j) Second Order Taylor Approximation\n",
    "\n",
    "Many method for nonlinear optimization will use a local approximation of the function to be optimized using Taylor’s Theorem. In this task we will draw the contours of a function together with a second order Taylor approximation to it at a given point. As a starting point use the python programme you developed in task 1(g): plotting contours of the function `ex13`. On top of the contour plot we would like to superimpose the contours of the second order Taylor approximation. Take $x_0 = (0, 0.5)$ as the point to centre the Taylor approximation on. It is then given\n",
    "by\n",
    "$$\n",
    "    T(x) = f(x_0) + \\nabla f(x_0)(x − x_0) + \\frac{1}{2}(x − x_0)^{\\top}\\nabla^2f(x_0)(x − x_0)\n",
    "$$\n",
    "We can do this in python, by first getting derivatives of the function at $x_0$:"
   ]
  },
  {
   "cell_type": "code",
   "execution_count": null,
   "metadata": {},
   "outputs": [],
   "source": [
    "x0 = 0\n",
    "y0 = 0.5\n",
    "f = func(0, [x0, y0])\n",
    "g = func(1, [x0, y0])\n",
    "H = func(2, [x0, y0])"
   ]
  },
  {
   "cell_type": "markdown",
   "metadata": {},
   "source": [
    "And then calculating the value of $T(x)$ for every point in the grid given by $X$, $Y$:"
   ]
  },
  {
   "cell_type": "code",
   "execution_count": null,
   "metadata": {},
   "outputs": [],
   "source": [
    "XS = X-x0\n",
    "YS = Y-y0\n",
    "T = f + g[0]*XS + g[1]*YS + 0.5*H[0][0]*XS*XS + H[0][1]*XS*YS + 0.5*H[1][1]*YS*Y"
   ]
  },
  {
   "cell_type": "markdown",
   "metadata": {},
   "source": [
    "Spend some time to understand why this is working. We can then plot the contours of $T(x)$ by adding `ax.contour(X, Y, T, 50)` to the same graph as the function `ex13`:"
   ]
  },
  {
   "cell_type": "code",
   "execution_count": null,
   "metadata": {},
   "outputs": [],
   "source": [
    "x_values = np.linspace(-2.5, 2.5, 100)\n",
    "y_values = np.linspace(-1.5, 1.5, 100)\n",
    "Z = func(0, X, Y)\n",
    "\n",
    "fig, ax = plt.subplots()\n",
    "ax.contour(X, Y, Z, 50)\n",
    "ax.contour(X, Y, T, 50)"
   ]
  },
  {
   "cell_type": "markdown",
   "metadata": {},
   "source": [
    "You may want to use a different colourmap for each of the contour plots to increase the contrast between them, by using the `ax.contour(X, Y, Z, cmap=plt.get_cmap('hsv'))` version. An overview of colourmaps can be found in [the matplotlib documentation](https://matplotlib.org/stable/users/explain/colors/colormaps.html), try for example hsv and plasma.\n",
    "\n",
    "Also try this for different approximation centres $x_0$. You could do the same exercise for a surface (or wireframe) plot of the function, but it will be much harder to see what is going on.\n",
    "\n",
    "## 2. Assessed Task\n",
    "\n",
    "> (a) Please submit your answer to Task 1(i) and the Python program for Task 1(j).\n",
    "\n",
    "For Task 1(i) please submit a document or scan that gives the answer to 1(i): how many stationary points there are of which type. For Task 1(j) just submit the Python program. Submission is on the NLO Learn pages (under Assessments) by **Friday 24 January 10am**."
   ]
  }
 ],
 "metadata": {
  "kernelspec": {
   "display_name": "Python 3",
   "language": "python",
   "name": "python3"
  },
  "language_info": {
   "codemirror_mode": {
    "name": "ipython",
    "version": 3
   },
   "file_extension": ".py",
   "mimetype": "text/x-python",
   "name": "python",
   "nbconvert_exporter": "python",
   "pygments_lexer": "ipython3",
   "version": "3.13.5"
  }
 },
 "nbformat": 4,
 "nbformat_minor": 2
}
